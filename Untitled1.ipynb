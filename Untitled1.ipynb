{
  "nbformat": 4,
  "nbformat_minor": 0,
  "metadata": {
    "colab": {
      "name": "Untitled1.ipynb",
      "provenance": []
    },
    "kernelspec": {
      "name": "python3",
      "display_name": "Python 3"
    }
  },
  "cells": [
    {
      "cell_type": "markdown",
      "metadata": {
        "id": "9kqvs4WMmHxn"
      },
      "source": [
        "\n",
        "Question 1\n",
        "Écrivez un programme qui trouvera tous ces nombres qui sont divisibles par 7 mais ne sont pas un multiple de 5, entre 2000 et 3200 (tous deux inclus). Les nombres obtenus doivent être imprimés dans une liste."
      ]
    },
    {
      "cell_type": "code",
      "metadata": {
        "colab": {
          "base_uri": "https://localhost:8080/"
        },
        "id": "AiYXRfqdmTcF",
        "outputId": "d45b56cd-9847-4fc8-c74f-d50f241f252c"
      },
      "source": [
        "Numbers=[x for x in range (2000, 3201) if x % 7== 0 and x% 5 != 0]\n",
        "\n",
        "print(Numbers)"
      ],
      "execution_count": 1,
      "outputs": [
        {
          "output_type": "stream",
          "text": [
            "[2002, 2009, 2016, 2023, 2037, 2044, 2051, 2058, 2072, 2079, 2086, 2093, 2107, 2114, 2121, 2128, 2142, 2149, 2156, 2163, 2177, 2184, 2191, 2198, 2212, 2219, 2226, 2233, 2247, 2254, 2261, 2268, 2282, 2289, 2296, 2303, 2317, 2324, 2331, 2338, 2352, 2359, 2366, 2373, 2387, 2394, 2401, 2408, 2422, 2429, 2436, 2443, 2457, 2464, 2471, 2478, 2492, 2499, 2506, 2513, 2527, 2534, 2541, 2548, 2562, 2569, 2576, 2583, 2597, 2604, 2611, 2618, 2632, 2639, 2646, 2653, 2667, 2674, 2681, 2688, 2702, 2709, 2716, 2723, 2737, 2744, 2751, 2758, 2772, 2779, 2786, 2793, 2807, 2814, 2821, 2828, 2842, 2849, 2856, 2863, 2877, 2884, 2891, 2898, 2912, 2919, 2926, 2933, 2947, 2954, 2961, 2968, 2982, 2989, 2996, 3003, 3017, 3024, 3031, 3038, 3052, 3059, 3066, 3073, 3087, 3094, 3101, 3108, 3122, 3129, 3136, 3143, 3157, 3164, 3171, 3178, 3192, 3199]\n"
          ],
          "name": "stdout"
        }
      ]
    },
    {
      "cell_type": "markdown",
      "metadata": {
        "id": "9Zvc-mGTmaFc"
      },
      "source": [
        "Question 2 \n",
        "Ecrivez un programme qui peut calculer la factorielle d'un nombre donné. (la factorielle de n est le produit de tous les nombres entiers positifs inférieurs ou égaux à n). par exemple factoriel (5) = 5 x 4 x 3 x 2 x 1 le résultat est 120. (ie factoriel (0) = 1)"
      ]
    },
    {
      "cell_type": "code",
      "metadata": {
        "colab": {
          "base_uri": "https://localhost:8080/"
        },
        "id": "7eq-aF6omgjV",
        "outputId": "71f0d3f6-89f2-45d1-fa62-fc7178887b30"
      },
      "source": [
        "def fact(n):\n",
        "   if n == 1:\n",
        "       return n\n",
        "   else:\n",
        "       return n*fact(n-1)\n",
        "\n",
        "n = 8\n",
        "\n",
        "if n < 0:\n",
        "    print(\"Error\")\n",
        "elif n == 0:\n",
        "    print(\"The factorial of 0 is 1\")\n",
        "else:\n",
        "    print(\"The factorial of\", n, \"is\", fact(n))"
      ],
      "execution_count": 4,
      "outputs": [
        {
          "output_type": "stream",
          "text": [
            "The factorial of 8 is 40320\n"
          ],
          "name": "stdout"
        }
      ]
    },
    {
      "cell_type": "markdown",
      "metadata": {
        "id": "Ts4G5PnumzkC"
      },
      "source": [
        "question 3 \n",
        "Avec un nombre entier donné n, écrivez un programme pour générer un dictionnaire contenant (i, i * i) tel qu'un nombre entier compris entre 1 et n (tous deux inclus). puis le programme doit imprimer le dictionnaire. Supposons que l'entrée suivante soit fournie au programme: 8 Ensuite, la sortie doit être: {1: 1, 2: 4, 3: 9, 4: 16, 5: 25, 6: 36, 7: 49, 8: 64 } "
      ]
    },
    {
      "cell_type": "code",
      "metadata": {
        "colab": {
          "base_uri": "https://localhost:8080/"
        },
        "id": "jdAcSOk5niJ_",
        "outputId": "599ecfba-d72c-4ee7-9b9d-f27b89d07bb7"
      },
      "source": [
        "n = int()\n",
        "squares = {i : i*i for i in range(1, 9)}\n",
        "squares"
      ],
      "execution_count": 5,
      "outputs": [
        {
          "output_type": "execute_result",
          "data": {
            "text/plain": [
              "{1: 1, 2: 4, 3: 9, 4: 16, 5: 25, 6: 36, 7: 49, 8: 64}"
            ]
          },
          "metadata": {
            "tags": []
          },
          "execution_count": 5
        }
      ]
    },
    {
      "cell_type": "markdown",
      "metadata": {
        "id": "h4_LwOMwnnWZ"
      },
      "source": [
        "Question 4 \n",
        "\n",
        "Étant donné une chaîne non vide et un int n, retourne une nouvelle chaîne où le caractère à l'index n a été supprimé. La valeur de n sera un index valide d'un caractère dans la chaîne d'origine (c'est-à-dire que n sera compris entre 0..len (str) -1 inclus). \n",
        "\n",
        "missing_char ('kitten', 1) → 'ktten' par exemple ici on supprime \"i\" qui se trouve dans l'index 1\n",
        "\n",
        "missing_char ('chaton', 0) → 'itten' ici on supprime \"k\" qui est dans l'index 0\n",
        "\n",
        "missing_char ('chaton', 4) → 'kittn' ici on supprime \"e\" qui est dans l'index 4"
      ]
    },
    {
      "cell_type": "code",
      "metadata": {
        "colab": {
          "base_uri": "https://localhost:8080/"
        },
        "id": "HZS-gw-pnrUC",
        "outputId": "3a83f5af-8df4-471d-f546-87937b074afe"
      },
      "source": [
        "def missing_char(str, n):\n",
        "      first_part = str[:n] \n",
        "      last_part = str[n+1:]\n",
        "      return first_part + last_part\n",
        "    \n",
        "print(missing_char('kitten', 1))\n",
        "print(missing_char('kitten', 0))\n",
        "print(missing_char('kitten', 4))"
      ],
      "execution_count": 6,
      "outputs": [
        {
          "output_type": "stream",
          "text": [
            "ktten\n",
            "itten\n",
            "kittn\n"
          ],
          "name": "stdout"
        }
      ]
    },
    {
      "cell_type": "markdown",
      "metadata": {
        "id": "duDfrbI7oTgV"
      },
      "source": [
        "Question 5 \n",
        "\n",
        "Ecrivez un programme NumPy pour convertir un tableau NumPy en une structure de liste Python."
      ]
    },
    {
      "cell_type": "code",
      "metadata": {
        "colab": {
          "base_uri": "https://localhost:8080/"
        },
        "id": "aR_94H2aoW_E",
        "outputId": "c9c1890f-e43d-417f-8709-989d94c75072"
      },
      "source": [
        "import numpy as np\n",
        "\n",
        "x=np.array([[0,1],[2,3],[4,5]])\n",
        "\n",
        "print(\"Original array elements:\",x)\n",
        "\n",
        "print (\"Array to list:\",x.tolist())"
      ],
      "execution_count": 7,
      "outputs": [
        {
          "output_type": "stream",
          "text": [
            "Original array elements: [[0 1]\n",
            " [2 3]\n",
            " [4 5]]\n",
            "Array to list: [[0, 1], [2, 3], [4, 5]]\n"
          ],
          "name": "stdout"
        }
      ]
    },
    {
      "cell_type": "markdown",
      "metadata": {
        "id": "wnQi462voiCN"
      },
      "source": [
        "Question 6\n",
        "\n",
        "Ecrivez un programme NumPy pour calculer la matrice de covariance de deux tableaux donnés. \n",
        "\n",
        "Tableau original1: [0 1 2] \n",
        "\n",
        "Tableau original2: [2 1 0] \n",
        "\n",
        "Matrice de covariance desdits tableaux: [[1. -1.] [-1. 1.]]"
      ]
    },
    {
      "cell_type": "code",
      "metadata": {
        "colab": {
          "base_uri": "https://localhost:8080/"
        },
        "id": "0Fs5w448oi8m",
        "outputId": "4ca628be-71fa-4674-f672-1dd612f14c86"
      },
      "source": [
        "import numpy as nm\n",
        "x=np.array([0,1,2])\n",
        "y=np.array([2,1,0])\n",
        "\n",
        "print(\"Original array1 :\",x)\n",
        "print(\"Original array2 :\",y)\n",
        "\n",
        "np.cov(x,y)"
      ],
      "execution_count": 8,
      "outputs": [
        {
          "output_type": "stream",
          "text": [
            "Original array1 : [0 1 2]\n",
            "Original array2 : [2 1 0]\n"
          ],
          "name": "stdout"
        },
        {
          "output_type": "execute_result",
          "data": {
            "text/plain": [
              "array([[ 1., -1.],\n",
              "       [-1.,  1.]])"
            ]
          },
          "metadata": {
            "tags": []
          },
          "execution_count": 8
        }
      ]
    },
    {
      "cell_type": "markdown",
      "metadata": {
        "id": "fVfvfS6_ooMp"
      },
      "source": [
        "Question 7\n",
        "\n",
        "Question: Écrivez un programme qui calcule et imprime la valeur selon la formule donnée: Q = Racine carrée de [(2 * C * D) / H] \n",
        "\n",
        "Voici les valeurs fixes de C et H: C est 50. H est 30. \n",
        "\n",
        "D est la variable dont les valeurs doivent être entrées dans votre programme dans une séquence séparée par des virgules. (cela signifie que D contient plus que la valeur)"
      ]
    },
    {
      "cell_type": "code",
      "metadata": {
        "colab": {
          "base_uri": "https://localhost:8080/"
        },
        "id": "Ij9VHzzypGyS",
        "outputId": "7fb9d8d7-1f79-4e68-ee08-d804394afd64"
      },
      "source": [
        "import math\n",
        "\n",
        "C=50\n",
        "H=30\n",
        "\n",
        "result = []\n",
        "items=[x for x in input(\"Enter the D value \").split(',')]\n",
        "for D in items:\n",
        "    result.append(str(int(round(math.sqrt(2*C*float(D)/H)))))\n",
        "\n",
        "print(','.join(result))"
      ],
      "execution_count": 11,
      "outputs": [
        {
          "output_type": "stream",
          "text": [
            "Enter the D value 100,150,180\n",
            "18,22,24\n"
          ],
          "name": "stdout"
        }
      ]
    }
  ]
}